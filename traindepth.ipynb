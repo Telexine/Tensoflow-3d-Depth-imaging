{
 "cells": [
  {
   "cell_type": "markdown",
   "metadata": {},
   "source": [
    "## Import"
   ]
  },
  {
   "cell_type": "code",
   "execution_count": 21,
   "metadata": {},
   "outputs": [],
   "source": [
    "import pathlib\n",
    "import IPython.display as display\n",
    "import scipy.io as sio \n",
    "import cv2\n",
    "from matplotlib import pyplot as plt\n",
    "import numpy as np\n",
    "%matplotlib inline \n",
    "import random\n",
    "import os"
   ]
  },
  {
   "cell_type": "markdown",
   "metadata": {},
   "source": [
    "## PREP"
   ]
  },
  {
   "cell_type": "code",
   "execution_count": 88,
   "metadata": {},
   "outputs": [
    {
     "name": "stdout",
     "output_type": "stream",
     "text": [
      "PASS: number   are equal\n"
     ]
    }
   ],
   "source": [
    "trainX = \"dataset/trimodel/Scene 1/SyncRGB\"\n",
    "trainY = \"dataset/trimodel/Scene 1/rgbMasks\"\n",
    "\n",
    "data_root_RGB = pathlib.Path(trainX)\n",
    "all_image_paths_RGB = list(data_root_RGB.glob('*.jpg'))\n",
    "all_image_paths_RGB = [str(path) for path in all_image_paths_RGB]\n",
    "#random.shuffle(all_image_pathsY)\n",
    "\n",
    "data_root_Depth = pathlib.Path(trainY)\n",
    "all_image_paths_Depth = list(data_root_Depth.glob('*.png'))\n",
    "all_image_paths_Depth = [str(path) for path in all_image_paths_Depth]\n",
    "\n",
    "#keep only Depth  (Depth inner join )\n",
    "image_count = len(all_image_paths_Depth)\n",
    "namesY = [os.path.basename(x) for x in all_image_paths_Depth]\n",
    "c = [ os.path.splitext(os.path.basename(x))[0] for x in namesY]\n",
    "\n",
    "all_image_paths_RGB = [ s for s in all_image_paths_RGB for xs in c if xs in s]\n",
    "if len(all_image_paths_RGB)==len(all_image_paths_Depth) : print(\"PASS: number   are equal\")\n",
    "else:     \n",
    "    print(\"File not equal\")\n",
    "    raise\n",
    "    \n",
    "# get all_image_paths_RGB = X,all_image_paths_Depth =Y"
   ]
  },
  {
   "cell_type": "code",
   "execution_count": 24,
   "metadata": {},
   "outputs": [],
   "source": [
    "def preprocess_image(image):\n",
    "  image = tf.image.decode_jpeg(image, channels=3)\n",
    "  image = tf.image.resize_images(image, [192, 192])\n",
    "  image /= 255.0  # normalize to [0,1] range\n",
    "\n",
    "  return image\n",
    "def load_and_preprocess_image(path):\n",
    "  image = tf.read_file(path)\n",
    "  return preprocess_image(image)"
   ]
  },
  {
   "cell_type": "code",
   "execution_count": null,
   "metadata": {},
   "outputs": [],
   "source": []
  }
 ],
 "metadata": {
  "kernelspec": {
   "display_name": "Python 3",
   "language": "python",
   "name": "python3"
  },
  "language_info": {
   "codemirror_mode": {
    "name": "ipython",
    "version": 3
   },
   "file_extension": ".py",
   "mimetype": "text/x-python",
   "name": "python",
   "nbconvert_exporter": "python",
   "pygments_lexer": "ipython3",
   "version": "3.6.8"
  }
 },
 "nbformat": 4,
 "nbformat_minor": 2
}
